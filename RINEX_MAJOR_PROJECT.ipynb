{
  "nbformat": 4,
  "nbformat_minor": 0,
  "metadata": {
    "colab": {
      "name": "RINEX_MAJOR_PROJECT.ipynb",
      "provenance": [],
      "collapsed_sections": []
    },
    "kernelspec": {
      "name": "python3",
      "display_name": "Python 3"
    },
    "language_info": {
      "name": "python"
    }
  },
  "cells": [
    {
      "cell_type": "code",
      "execution_count": 2,
      "metadata": {
        "colab": {
          "base_uri": "https://localhost:8080/",
          "height": 424
        },
        "id": "HUB41hH9H7v6",
        "outputId": "a1c0a43c-3173-4064-c64b-b18d419e558e"
      },
      "outputs": [
        {
          "output_type": "execute_result",
          "data": {
            "text/plain": [
              "    number_courses  time_study   Marks\n",
              "0                3       4.508  19.202\n",
              "1                4       0.096   7.734\n",
              "2                4       3.133  13.811\n",
              "3                6       7.909  53.018\n",
              "4                8       7.811  55.299\n",
              "..             ...         ...     ...\n",
              "95               6       3.561  19.128\n",
              "96               3       0.301   5.609\n",
              "97               4       7.163  41.444\n",
              "98               7       0.309  12.027\n",
              "99               3       6.335  32.357\n",
              "\n",
              "[100 rows x 3 columns]"
            ],
            "text/html": [
              "\n",
              "  <div id=\"df-e5cf8e65-623d-45e1-8e08-03829fbf4965\">\n",
              "    <div class=\"colab-df-container\">\n",
              "      <div>\n",
              "<style scoped>\n",
              "    .dataframe tbody tr th:only-of-type {\n",
              "        vertical-align: middle;\n",
              "    }\n",
              "\n",
              "    .dataframe tbody tr th {\n",
              "        vertical-align: top;\n",
              "    }\n",
              "\n",
              "    .dataframe thead th {\n",
              "        text-align: right;\n",
              "    }\n",
              "</style>\n",
              "<table border=\"1\" class=\"dataframe\">\n",
              "  <thead>\n",
              "    <tr style=\"text-align: right;\">\n",
              "      <th></th>\n",
              "      <th>number_courses</th>\n",
              "      <th>time_study</th>\n",
              "      <th>Marks</th>\n",
              "    </tr>\n",
              "  </thead>\n",
              "  <tbody>\n",
              "    <tr>\n",
              "      <th>0</th>\n",
              "      <td>3</td>\n",
              "      <td>4.508</td>\n",
              "      <td>19.202</td>\n",
              "    </tr>\n",
              "    <tr>\n",
              "      <th>1</th>\n",
              "      <td>4</td>\n",
              "      <td>0.096</td>\n",
              "      <td>7.734</td>\n",
              "    </tr>\n",
              "    <tr>\n",
              "      <th>2</th>\n",
              "      <td>4</td>\n",
              "      <td>3.133</td>\n",
              "      <td>13.811</td>\n",
              "    </tr>\n",
              "    <tr>\n",
              "      <th>3</th>\n",
              "      <td>6</td>\n",
              "      <td>7.909</td>\n",
              "      <td>53.018</td>\n",
              "    </tr>\n",
              "    <tr>\n",
              "      <th>4</th>\n",
              "      <td>8</td>\n",
              "      <td>7.811</td>\n",
              "      <td>55.299</td>\n",
              "    </tr>\n",
              "    <tr>\n",
              "      <th>...</th>\n",
              "      <td>...</td>\n",
              "      <td>...</td>\n",
              "      <td>...</td>\n",
              "    </tr>\n",
              "    <tr>\n",
              "      <th>95</th>\n",
              "      <td>6</td>\n",
              "      <td>3.561</td>\n",
              "      <td>19.128</td>\n",
              "    </tr>\n",
              "    <tr>\n",
              "      <th>96</th>\n",
              "      <td>3</td>\n",
              "      <td>0.301</td>\n",
              "      <td>5.609</td>\n",
              "    </tr>\n",
              "    <tr>\n",
              "      <th>97</th>\n",
              "      <td>4</td>\n",
              "      <td>7.163</td>\n",
              "      <td>41.444</td>\n",
              "    </tr>\n",
              "    <tr>\n",
              "      <th>98</th>\n",
              "      <td>7</td>\n",
              "      <td>0.309</td>\n",
              "      <td>12.027</td>\n",
              "    </tr>\n",
              "    <tr>\n",
              "      <th>99</th>\n",
              "      <td>3</td>\n",
              "      <td>6.335</td>\n",
              "      <td>32.357</td>\n",
              "    </tr>\n",
              "  </tbody>\n",
              "</table>\n",
              "<p>100 rows × 3 columns</p>\n",
              "</div>\n",
              "      <button class=\"colab-df-convert\" onclick=\"convertToInteractive('df-e5cf8e65-623d-45e1-8e08-03829fbf4965')\"\n",
              "              title=\"Convert this dataframe to an interactive table.\"\n",
              "              style=\"display:none;\">\n",
              "        \n",
              "  <svg xmlns=\"http://www.w3.org/2000/svg\" height=\"24px\"viewBox=\"0 0 24 24\"\n",
              "       width=\"24px\">\n",
              "    <path d=\"M0 0h24v24H0V0z\" fill=\"none\"/>\n",
              "    <path d=\"M18.56 5.44l.94 2.06.94-2.06 2.06-.94-2.06-.94-.94-2.06-.94 2.06-2.06.94zm-11 1L8.5 8.5l.94-2.06 2.06-.94-2.06-.94L8.5 2.5l-.94 2.06-2.06.94zm10 10l.94 2.06.94-2.06 2.06-.94-2.06-.94-.94-2.06-.94 2.06-2.06.94z\"/><path d=\"M17.41 7.96l-1.37-1.37c-.4-.4-.92-.59-1.43-.59-.52 0-1.04.2-1.43.59L10.3 9.45l-7.72 7.72c-.78.78-.78 2.05 0 2.83L4 21.41c.39.39.9.59 1.41.59.51 0 1.02-.2 1.41-.59l7.78-7.78 2.81-2.81c.8-.78.8-2.07 0-2.86zM5.41 20L4 18.59l7.72-7.72 1.47 1.35L5.41 20z\"/>\n",
              "  </svg>\n",
              "      </button>\n",
              "      \n",
              "  <style>\n",
              "    .colab-df-container {\n",
              "      display:flex;\n",
              "      flex-wrap:wrap;\n",
              "      gap: 12px;\n",
              "    }\n",
              "\n",
              "    .colab-df-convert {\n",
              "      background-color: #E8F0FE;\n",
              "      border: none;\n",
              "      border-radius: 50%;\n",
              "      cursor: pointer;\n",
              "      display: none;\n",
              "      fill: #1967D2;\n",
              "      height: 32px;\n",
              "      padding: 0 0 0 0;\n",
              "      width: 32px;\n",
              "    }\n",
              "\n",
              "    .colab-df-convert:hover {\n",
              "      background-color: #E2EBFA;\n",
              "      box-shadow: 0px 1px 2px rgba(60, 64, 67, 0.3), 0px 1px 3px 1px rgba(60, 64, 67, 0.15);\n",
              "      fill: #174EA6;\n",
              "    }\n",
              "\n",
              "    [theme=dark] .colab-df-convert {\n",
              "      background-color: #3B4455;\n",
              "      fill: #D2E3FC;\n",
              "    }\n",
              "\n",
              "    [theme=dark] .colab-df-convert:hover {\n",
              "      background-color: #434B5C;\n",
              "      box-shadow: 0px 1px 3px 1px rgba(0, 0, 0, 0.15);\n",
              "      filter: drop-shadow(0px 1px 2px rgba(0, 0, 0, 0.3));\n",
              "      fill: #FFFFFF;\n",
              "    }\n",
              "  </style>\n",
              "\n",
              "      <script>\n",
              "        const buttonEl =\n",
              "          document.querySelector('#df-e5cf8e65-623d-45e1-8e08-03829fbf4965 button.colab-df-convert');\n",
              "        buttonEl.style.display =\n",
              "          google.colab.kernel.accessAllowed ? 'block' : 'none';\n",
              "\n",
              "        async function convertToInteractive(key) {\n",
              "          const element = document.querySelector('#df-e5cf8e65-623d-45e1-8e08-03829fbf4965');\n",
              "          const dataTable =\n",
              "            await google.colab.kernel.invokeFunction('convertToInteractive',\n",
              "                                                     [key], {});\n",
              "          if (!dataTable) return;\n",
              "\n",
              "          const docLinkHtml = 'Like what you see? Visit the ' +\n",
              "            '<a target=\"_blank\" href=https://colab.research.google.com/notebooks/data_table.ipynb>data table notebook</a>'\n",
              "            + ' to learn more about interactive tables.';\n",
              "          element.innerHTML = '';\n",
              "          dataTable['output_type'] = 'display_data';\n",
              "          await google.colab.output.renderOutput(dataTable, element);\n",
              "          const docLink = document.createElement('div');\n",
              "          docLink.innerHTML = docLinkHtml;\n",
              "          element.appendChild(docLink);\n",
              "        }\n",
              "      </script>\n",
              "    </div>\n",
              "  </div>\n",
              "  "
            ]
          },
          "metadata": {},
          "execution_count": 2
        }
      ],
      "source": [
        "import pandas as pd\n",
        "df = pd.read_csv('/content/Student_Marks.csv')\n",
        "df"
      ]
    },
    {
      "cell_type": "code",
      "source": [
        "df.info()\n"
      ],
      "metadata": {
        "colab": {
          "base_uri": "https://localhost:8080/"
        },
        "id": "vYxTagGRIPbP",
        "outputId": "8f5bd65d-0914-4c5e-a66c-b9fbfd64ec57"
      },
      "execution_count": 3,
      "outputs": [
        {
          "output_type": "stream",
          "name": "stdout",
          "text": [
            "<class 'pandas.core.frame.DataFrame'>\n",
            "RangeIndex: 100 entries, 0 to 99\n",
            "Data columns (total 3 columns):\n",
            " #   Column          Non-Null Count  Dtype  \n",
            "---  ------          --------------  -----  \n",
            " 0   number_courses  100 non-null    int64  \n",
            " 1   time_study      100 non-null    float64\n",
            " 2   Marks           100 non-null    float64\n",
            "dtypes: float64(2), int64(1)\n",
            "memory usage: 2.5 KB\n"
          ]
        }
      ]
    },
    {
      "cell_type": "code",
      "source": [
        "x = df.iloc[:,0:2].values\n",
        "x"
      ],
      "metadata": {
        "colab": {
          "base_uri": "https://localhost:8080/"
        },
        "id": "h1QSwSKmIf-I",
        "outputId": "c3b18d16-8d19-4f3b-dcf9-3145a687366a"
      },
      "execution_count": 4,
      "outputs": [
        {
          "output_type": "execute_result",
          "data": {
            "text/plain": [
              "array([[3.   , 4.508],\n",
              "       [4.   , 0.096],\n",
              "       [4.   , 3.133],\n",
              "       [6.   , 7.909],\n",
              "       [8.   , 7.811],\n",
              "       [6.   , 3.211],\n",
              "       [3.   , 6.063],\n",
              "       [5.   , 3.413],\n",
              "       [4.   , 4.41 ],\n",
              "       [3.   , 6.173],\n",
              "       [3.   , 7.353],\n",
              "       [7.   , 0.423],\n",
              "       [7.   , 4.218],\n",
              "       [3.   , 4.274],\n",
              "       [3.   , 2.908],\n",
              "       [4.   , 4.26 ],\n",
              "       [5.   , 5.719],\n",
              "       [8.   , 6.08 ],\n",
              "       [6.   , 7.711],\n",
              "       [8.   , 3.977],\n",
              "       [4.   , 4.733],\n",
              "       [6.   , 6.126],\n",
              "       [5.   , 2.051],\n",
              "       [7.   , 4.875],\n",
              "       [4.   , 3.635],\n",
              "       [3.   , 1.407],\n",
              "       [7.   , 0.508],\n",
              "       [8.   , 4.378],\n",
              "       [5.   , 0.156],\n",
              "       [4.   , 1.299],\n",
              "       [8.   , 3.864],\n",
              "       [3.   , 1.923],\n",
              "       [8.   , 0.932],\n",
              "       [6.   , 6.594],\n",
              "       [3.   , 4.083],\n",
              "       [3.   , 7.543],\n",
              "       [4.   , 2.966],\n",
              "       [6.   , 7.283],\n",
              "       [7.   , 6.533],\n",
              "       [6.   , 7.775],\n",
              "       [4.   , 0.14 ],\n",
              "       [6.   , 2.754],\n",
              "       [6.   , 3.591],\n",
              "       [5.   , 1.557],\n",
              "       [4.   , 1.954],\n",
              "       [3.   , 2.061],\n",
              "       [4.   , 3.797],\n",
              "       [4.   , 4.779],\n",
              "       [3.   , 5.635],\n",
              "       [5.   , 3.913],\n",
              "       [6.   , 6.703],\n",
              "       [6.   , 4.13 ],\n",
              "       [4.   , 0.771],\n",
              "       [7.   , 6.049],\n",
              "       [8.   , 7.591],\n",
              "       [7.   , 2.913],\n",
              "       [8.   , 7.641],\n",
              "       [7.   , 7.649],\n",
              "       [3.   , 6.198],\n",
              "       [8.   , 7.468],\n",
              "       [6.   , 0.376],\n",
              "       [4.   , 2.438],\n",
              "       [6.   , 3.606],\n",
              "       [3.   , 4.869],\n",
              "       [7.   , 0.13 ],\n",
              "       [6.   , 2.142],\n",
              "       [4.   , 5.473],\n",
              "       [3.   , 0.55 ],\n",
              "       [4.   , 1.395],\n",
              "       [6.   , 3.948],\n",
              "       [4.   , 3.736],\n",
              "       [5.   , 2.518],\n",
              "       [3.   , 4.633],\n",
              "       [3.   , 1.629],\n",
              "       [4.   , 6.954],\n",
              "       [3.   , 0.803],\n",
              "       [5.   , 6.379],\n",
              "       [8.   , 5.985],\n",
              "       [7.   , 7.451],\n",
              "       [3.   , 0.805],\n",
              "       [7.   , 7.957],\n",
              "       [8.   , 2.262],\n",
              "       [4.   , 7.41 ],\n",
              "       [5.   , 3.197],\n",
              "       [8.   , 1.982],\n",
              "       [8.   , 6.201],\n",
              "       [7.   , 4.067],\n",
              "       [3.   , 1.033],\n",
              "       [5.   , 1.803],\n",
              "       [7.   , 6.376],\n",
              "       [7.   , 4.182],\n",
              "       [8.   , 2.73 ],\n",
              "       [4.   , 5.027],\n",
              "       [8.   , 6.471],\n",
              "       [8.   , 3.919],\n",
              "       [6.   , 3.561],\n",
              "       [3.   , 0.301],\n",
              "       [4.   , 7.163],\n",
              "       [7.   , 0.309],\n",
              "       [3.   , 6.335]])"
            ]
          },
          "metadata": {},
          "execution_count": 4
        }
      ]
    },
    {
      "cell_type": "code",
      "source": [
        "y = df.iloc[:,2].values\n",
        "y"
      ],
      "metadata": {
        "colab": {
          "base_uri": "https://localhost:8080/"
        },
        "id": "Jq7XSYSdIrV1",
        "outputId": "0175f430-b67d-49b8-9497-e88a8f6811a6"
      },
      "execution_count": 5,
      "outputs": [
        {
          "output_type": "execute_result",
          "data": {
            "text/plain": [
              "array([19.202,  7.734, 13.811, 53.018, 55.299, 17.822, 29.889, 17.264,\n",
              "       20.348, 30.862, 42.036, 12.132, 24.318, 17.672, 11.397, 19.466,\n",
              "       30.548, 38.49 , 50.986, 25.133, 22.073, 35.939, 12.209, 28.043,\n",
              "       16.517,  6.623, 12.647, 26.532,  9.333,  8.837, 24.172,  8.1  ,\n",
              "       15.038, 39.965, 17.171, 43.978, 13.119, 46.453, 41.358, 51.142,\n",
              "        7.336, 15.725, 19.771, 10.429,  9.742,  8.924, 16.703, 22.701,\n",
              "       26.882, 19.106, 40.602, 22.184,  7.892, 36.653, 53.158, 18.238,\n",
              "       53.359, 51.583, 31.236, 51.343, 10.522, 10.844, 19.59 , 21.379,\n",
              "       12.591, 13.562, 27.569,  6.185,  8.92 , 21.4  , 16.606, 13.416,\n",
              "       20.398,  7.014, 39.952,  6.217, 36.746, 38.278, 49.544,  6.349,\n",
              "       54.321, 17.705, 44.099, 16.106, 16.461, 39.957, 23.149,  6.053,\n",
              "       11.253, 40.024, 24.394, 19.564, 23.916, 42.426, 24.451, 19.128,\n",
              "        5.609, 41.444, 12.027, 32.357])"
            ]
          },
          "metadata": {},
          "execution_count": 5
        }
      ]
    },
    {
      "cell_type": "code",
      "source": [
        "from sklearn.model_selection import train_test_split\n",
        "x_train,x_test,y_train,y_test = train_test_split(x,y,random_state = 0)"
      ],
      "metadata": {
        "id": "9B7u2MnfI2Fc"
      },
      "execution_count": 6,
      "outputs": []
    },
    {
      "cell_type": "code",
      "source": [
        "from sklearn.linear_model import LinearRegression\n",
        "model = LinearRegression()"
      ],
      "metadata": {
        "id": "K6YUrgAGI8JN"
      },
      "execution_count": 10,
      "outputs": []
    },
    {
      "cell_type": "code",
      "source": [
        "model.fit(x_train,y_train)"
      ],
      "metadata": {
        "colab": {
          "base_uri": "https://localhost:8080/"
        },
        "id": "O6VnQwe6I_5P",
        "outputId": "073d901d-808d-4f20-ba21-4445eeb9c782"
      },
      "execution_count": 11,
      "outputs": [
        {
          "output_type": "execute_result",
          "data": {
            "text/plain": [
              "LinearRegression()"
            ]
          },
          "metadata": {},
          "execution_count": 11
        }
      ]
    },
    {
      "cell_type": "code",
      "source": [
        "y_pred = model.predict(x_test)\n",
        "y_pred"
      ],
      "metadata": {
        "colab": {
          "base_uri": "https://localhost:8080/"
        },
        "id": "fPpYvodMKHHk",
        "outputId": "1107b5b0-2e43-4555-a4de-c4b1eb0196d8"
      },
      "execution_count": 12,
      "outputs": [
        {
          "output_type": "execute_result",
          "data": {
            "text/plain": [
              "array([ 8.79129789, 27.7404548 , 17.34208476, 21.59622128,  3.12798968,\n",
              "       42.34854752, 32.91919872,  7.52585526, 48.31175509, 23.23786918,\n",
              "       38.29320247, 27.4262947 , 45.75786052, 21.60860885, 20.64138028,\n",
              "       28.46811705, 13.38969393, 20.01487958, 39.38644825, 24.14120625,\n",
              "       10.75949345, 23.47746234, 46.38789285, 15.87613851,  9.82594961])"
            ]
          },
          "metadata": {},
          "execution_count": 12
        }
      ]
    },
    {
      "cell_type": "code",
      "source": [
        "#@title\n",
        "model.predict([[3,4.5]])"
      ],
      "metadata": {
        "colab": {
          "base_uri": "https://localhost:8080/"
        },
        "cellView": "form",
        "collapsed": true,
        "id": "J-tyzO9rKMe3",
        "outputId": "9e7997ca-0fe0-4c1e-db11-b8d661768bde"
      },
      "execution_count": 14,
      "outputs": [
        {
          "output_type": "execute_result",
          "data": {
            "text/plain": [
              "array([22.81189895])"
            ]
          },
          "metadata": {},
          "execution_count": 14
        }
      ]
    }
  ]
}